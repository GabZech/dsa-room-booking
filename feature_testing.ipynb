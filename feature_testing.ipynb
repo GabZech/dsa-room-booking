{
  "nbformat": 4,
  "nbformat_minor": 0,
  "metadata": {
    "colab": {
      "name": "Room_booking_system.ipynb",
      "provenance": [],
      "collapsed_sections": []
    },
    "kernelspec": {
      "name": "python3",
      "display_name": "Python 3"
    },
    "language_info": {
      "name": "python"
    }
  },
  "cells": [
    {
      "cell_type": "markdown",
      "metadata": {
        "id": "pIy6kNSQwKd1"
      },
      "source": [
        "Creating classes and attributes for the rooms"
      ]
    },
    {
      "cell_type": "code",
      "metadata": {
        "id": "CXtMbd7MOSHf"
      },
      "source": [
        "import re"
      ],
      "execution_count": null,
      "outputs": []
    },
    {
      "cell_type": "code",
      "metadata": {
        "id": "PLNILcle0yn7"
      },
      "source": [
        "class Room:\n",
        "\n",
        "    def __init__(self, name, capacity, quiet, tv, projector):\n",
        "        self.__name = name\n",
        "        self.__capacity = capacity\n",
        "        self.__quiet = quiet \n",
        "        self.__tv = tv\n",
        "        self.__projector = projector"
      ],
      "execution_count": null,
      "outputs": []
    },
    {
      "cell_type": "code",
      "metadata": {
        "id": "kHgrtNFqVfFS"
      },
      "source": [
        "# create rooms\n",
        "\n",
        "room1=Room(\"2.31\", 2, True, True, False)\n",
        "room2=Room(\"2.32\", 3, True, False, False)\n",
        "room3=Room(\"2.35\", 8, False, False, False)\n",
        "room4=Room(\"2.31\", 2, True, True, False)\n",
        "room5=Room(\"3.22\", 4, True, False, True)\n",
        "room6=Room(\"3.47\", 4, False, False, False)\n",
        "room7=Room(\"2.71\", 7, False, True, False)\n",
        "room8=Room(\"3.10\", 7, False, True, False)\n",
        "room9=Room(\"2.32\", 3, True, False, False)\n",
        "room10=Room(\"3.33\", 5, True, False, False)\n",
        "room11=Room(\"3.35\", 12, True, False, True)\n",
        "room12=Room(\"3.40\", 15, False, True, True)\n",
        "room13=Room(\"3.50\", 17, False, False, False)\n",
        "room14=Room(\"3.60\", 4, True, False, False)\n"
      ],
      "execution_count": null,
      "outputs": []
    },
    {
      "cell_type": "code",
      "metadata": {
        "id": "DqjTC9EO-XJI"
      },
      "source": [
        " class Student:\n",
        "     def __init__(self, name, id, email):\n",
        "                       self._name = name\n",
        "                       self._id = id\n",
        "                       self._email = email\n",
        "\n",
        "## create getters for Student name, id and email"
      ],
      "execution_count": null,
      "outputs": []
    },
    {
      "cell_type": "code",
      "metadata": {
        "id": "dv68K_MwAvAs"
      },
      "source": [
        "def askStudentName():\n",
        "\n",
        "  while True:\n",
        "    name = input(\"Please enter your full name: \")\n",
        "    \n",
        "    if (any(x.isalpha() for x in name)\n",
        "    and any(x.isspace() for x in name)\n",
        "    and all(x.isalpha() or x.isspace() for x in name)) == False: # require that the string contains at least one alpha, at least one space, and only alphas and spaces\n",
        "      print(\"Error. Please provide your first and last name, separated by a space and in alphabetic letters only.\")\n",
        "    else:\n",
        "      break # we're happy with the value given and we're ready to exit the loop.\n",
        "\n",
        "  return name\n",
        "\n",
        "\n",
        "def askStudentID():\n",
        "\n",
        "  while True:\n",
        "    try:\n",
        "      id = int(input(\"Please enter your student ID: \"))\n",
        "    except ValueError: # executes if input is not an integer\n",
        "      print(\"Error. Please provide numbers only.\")\n",
        "      continue\n",
        "\n",
        "    if len(str(id)) != 6: # executes if input is not of length 6\n",
        "      print(\"Error. The ID provided does not have 6 digits.\")\n",
        "      continue\n",
        "\n",
        "    else: \n",
        "      break\n",
        "\n",
        "  return id\n",
        "\n",
        "\n",
        "def askStudentEmail():\n",
        "  \n",
        "  email_regex = re.compile(r\"[^@]+@[^@]+\\.[^@]+\") # regex that validates if string is an email address\n",
        "\n",
        "  while True:\n",
        "    email = input(\"Please enter your email: \")\n",
        "\n",
        "    if email_regex.match(email) == None:\n",
        "      print(\"Error. Please provide a valid email address.\")\n",
        "    else:\n",
        "      break\n",
        "\n",
        "  return email"
      ],
      "execution_count": null,
      "outputs": []
    },
    {
      "cell_type": "code",
      "metadata": {
        "colab": {
          "base_uri": "https://localhost:8080/"
        },
        "id": "liRTaGAqCtGS",
        "outputId": "8bac301e-be8b-4318-9c84-98ed5eb94ba7"
      },
      "source": [
        "new_student = Student(askStudentName(), askStudentID(), askStudentEmail())"
      ],
      "execution_count": null,
      "outputs": [
        {
          "name": "stdout",
          "output_type": "stream",
          "text": [
            "Please enter your full name: 1\n",
            "Error. Please provide your first and last name, separated by a space and in alphabetic letters only.\n",
            "Please enter your full name: a\n",
            "Error. Please provide your first and last name, separated by a space and in alphabetic letters only.\n",
            "Please enter your full name: Your mom\n",
            "Please enter your student ID: 666666\n",
            "Please enter your email: fuck@you.org\n"
          ]
        }
      ]
    },
    {
      "cell_type": "code",
      "metadata": {
        "id": "nchJsNiAFFkm"
      },
      "source": [
        ""
      ],
      "execution_count": null,
      "outputs": []
    },
    {
      "cell_type": "markdown",
      "metadata": {
        "id": "Js7OT_VWoZ5R"
      },
      "source": [
        "#################################################################\n",
        "\n",
        "Add random / testing stuff below"
      ]
    },
    {
      "cell_type": "markdown",
      "metadata": {
        "id": "AEbg3RN42CjY"
      },
      "source": [
        "2.31\t2\tYes\tNA\n",
        "2.33\t6\tYes\tTeleconferencing, TV\n",
        "2.35\t8\tNo\tProjector\n",
        "2.35.1\t10\tNo\tProjector, TV\n",
        "3.47\t4\tNo\tNA NA\n",
        "2.71\t7\tNo\tTeleconferencing\n",
        "3.01\t35\tNo\tProjector\n",
        "3.10\t7\tNo\tTV\n",
        "3.22\t4\tYes\tNA\n",
        "3.33\t5\tYes\tNA\n",
        "3.35\t12\tNo\tProjector\n",
        "3.40\t15\tNo\tTV, Projector\n",
        "3.50\t17\tNo\tNA\n",
        "3.60\t4\tYes\tNA"
      ]
    },
    {
      "cell_type": "markdown",
      "metadata": {
        "id": "kYRqYxJu_YzF"
      },
      "source": [
        "Room booking Hotel example with classes: https://stackoverflow.com/questions/33712227/assistance-with-classes-in-this-python-program"
      ]
    },
    {
      "cell_type": "code",
      "metadata": {
        "id": "0s1ZGNzDv3UW"
      },
      "source": [
        "class Room:\n",
        "\n",
        "    def __init__(self, name, capacity, quiet, av_specs):\n",
        "        self.__name = name\n",
        "        self.__capacity = capacity\n",
        "        self.__quiet = quiet\n",
        "        self.__av_specs = av_specs \n",
        "\n",
        "\n",
        "    def getName(self):\n",
        "        return self.__name\n",
        "    def setName(self, NewName):\n",
        "      if isinstance(NewName, str):\n",
        "        self.__name = NewName\n",
        "      else: \n",
        "        print(\"Please provide a string value.\")\n",
        "\n",
        "    def getCapacity(self):\n",
        "        return self.__capacity\n",
        "    def setCapacity(self, NewCapacity):\n",
        "      if isinstance(NewCapacity, int):\n",
        "        self.__capacity = NewCapacity\n",
        "      else: \n",
        "        print(\"Please provide an integer value.\")\n",
        "\n",
        "    def getDamage(self):\n",
        "        return self.__damage\n",
        "\n",
        "    def setDamage(self, NewDamage):\n",
        "        self.__damage = NewDamage\n",
        "\n",
        "    def attack(self):\n",
        "        return rd.randint(1, self.__damage)\n",
        "\n",
        "    def taunt(self):\n",
        "        return rd.sample([\"You code like a data scientist\", \"Your algorithm as as efficient as bubble sort\"], 1)\n",
        "\n",
        "    def tellMeTheTime(self):\n",
        "        return f\"It is {datetime.now()}\""
      ],
      "execution_count": null,
      "outputs": []
    },
    {
      "cell_type": "code",
      "metadata": {
        "colab": {
          "base_uri": "https://localhost:8080/",
          "height": 131
        },
        "id": "7GXw74ACiISV",
        "outputId": "3adf9489-c20a-4f3c-b2f1-c342c72df719"
      },
      "source": [
        "# STUFF TO SAVE / EXTRAS\n",
        "\n",
        "#\n",
        "    def getName(self):\n",
        "        return self.__name\n",
        "    def setName(self, NewName):\n",
        "      if isinstance(NewName, str):\n",
        "        self.__name = NewName\n",
        "      else: \n",
        "        print(\"Please provide a string value.\")\n",
        "\n",
        "    def getCapacity(self):\n",
        "        return self.__capacity\n",
        "    def setCapacity(self, NewCapacity):\n",
        "      if isinstance(NewCapacity, int):\n",
        "        self.__capacity = NewCapacity\n",
        "      else: \n",
        "        print(\"Please provide an integer value.\")\n",
        "\n",
        "    def getQuiet(self):\n",
        "        return self.__quiet\n",
        "    def setQuiet(self, NewQuiet):\n",
        "      if isinstance(NewQuiet, bool):\n",
        "        self.__quiet = NewQuiet\n",
        "      else: \n",
        "        print(\"Please provide a boolean value (False/True).\")\n",
        "\n",
        "    def getTv(self):\n",
        "        return self.__tv\n",
        "    def setTv(self, NewTv):\n",
        "      if isinstance(NewTv, bool):\n",
        "        self.__tv = NewTv\n",
        "      else: \n",
        "        print(\"Please provide a boolean value (False/True).\")"
      ],
      "execution_count": null,
      "outputs": [
        {
          "output_type": "error",
          "ename": "SyntaxError",
          "evalue": "ignored",
          "traceback": [
            "\u001b[0;36m  File \u001b[0;32m\"<ipython-input-12-73d245c593a6>\"\u001b[0;36m, line \u001b[0;32m1\u001b[0m\n\u001b[0;31m    STUFF TO SAVE / EXTRAS\u001b[0m\n\u001b[0m           ^\u001b[0m\n\u001b[0;31mSyntaxError\u001b[0m\u001b[0;31m:\u001b[0m invalid syntax\n"
          ]
        }
      ]
    }
  ]
}